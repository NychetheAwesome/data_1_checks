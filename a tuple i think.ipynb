{
 "cells": [
  {
   "cell_type": "code",
   "execution_count": null,
   "id": "8d84f00d-a8a0-424f-8067-fc1531e16a26",
   "metadata": {},
   "outputs": [],
   "source": []
  },
  {
   "cell_type": "code",
   "execution_count": 5,
   "id": "f31f1b21-bf6f-4983-b0c7-2d4ba15609e0",
   "metadata": {},
   "outputs": [
    {
     "name": "stdout",
     "output_type": "stream",
     "text": [
      "{'Synalise', 'Remy', 'Luvah'}\n"
     ]
    }
   ],
   "source": [
    "gogglecontacts = {\n",
    "    \"Remy\"     : 5027721587,\n",
    "    \"Luvah\"    : 5028851111,\n",
    "    \"Synalise\" : 5027175196\n",
    "}\n",
    "print(googlecontacts)"
   ]
  },
  {
   "cell_type": "code",
   "execution_count": 2,
   "id": "31d9e8a9-5ec9-4fe1-a78b-99e800c4fd30",
   "metadata": {},
   "outputs": [
    {
     "name": "stdout",
     "output_type": "stream",
     "text": [
      "{'Remy': 5027721587, 'Luvah': 5028851111, 'Synalise': 5027175196, 'Dondis': ['5027749663', '5027776981', '4043354215', '6157734581']}\n"
     ]
    }
   ],
   "source": [
    "updatedgogglecontacs = {\n",
    "    \"Remy\" : 5027721587,\n",
    "    \"Luvah\" : 5028851111,\n",
    "    \"Synalise\" : 5027175196,\n",
    "    \"Dondis\" : [\"5027749663\", \"5027776981\", \"4043354215\", \"6157734581\"]\n",
    "}\n",
    "print(updatedgogglecontacs)"
   ]
  },
  {
   "cell_type": "code",
   "execution_count": null,
   "id": "369d6de3-2f88-47ee-8546-cfe63b504c41",
   "metadata": {},
   "outputs": [],
   "source": []
  }
 ],
 "metadata": {
  "kernelspec": {
   "display_name": "Python 3 (ipykernel)",
   "language": "python",
   "name": "python3"
  },
  "language_info": {
   "codemirror_mode": {
    "name": "ipython",
    "version": 3
   },
   "file_extension": ".py",
   "mimetype": "text/x-python",
   "name": "python",
   "nbconvert_exporter": "python",
   "pygments_lexer": "ipython3",
   "version": "3.9.12"
  }
 },
 "nbformat": 4,
 "nbformat_minor": 5
}
