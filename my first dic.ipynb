{
 "cells": [
  {
   "cell_type": "code",
   "execution_count": 1,
   "id": "4ef04eb1-6a42-41e6-8c6c-299335b606f8",
   "metadata": {},
   "outputs": [
    {
     "ename": "NameError",
     "evalue": "name 'gogglecontacts' is not defined",
     "output_type": "error",
     "traceback": [
      "\u001b[0;31m---------------------------------------------------------------------------\u001b[0m",
      "\u001b[0;31mNameError\u001b[0m                                 Traceback (most recent call last)",
      "Input \u001b[0;32mIn [1]\u001b[0m, in \u001b[0;36m<cell line: 2>\u001b[0;34m()\u001b[0m\n\u001b[1;32m      1\u001b[0m googlecontacts \u001b[38;5;241m=\u001b[39m {\u001b[38;5;124m\"\u001b[39m\u001b[38;5;124mRemy\u001b[39m\u001b[38;5;124m\"\u001b[39m, \u001b[38;5;124m\"\u001b[39m\u001b[38;5;124mLuvah\u001b[39m\u001b[38;5;124m\"\u001b[39m, \u001b[38;5;124m\"\u001b[39m\u001b[38;5;124mSynalise\u001b[39m\u001b[38;5;124m\"\u001b[39m}\n\u001b[0;32m----> 2\u001b[0m \u001b[43mgogglecontacts\u001b[49m[\u001b[38;5;124m\"\u001b[39m\u001b[38;5;124mRemy\u001b[39m\u001b[38;5;124m\"\u001b[39m] \u001b[38;5;241m=\u001b[39m \u001b[38;5;241m5027721587\u001b[39m\n\u001b[1;32m      3\u001b[0m gogglecontacts[\u001b[38;5;124m\"\u001b[39m\u001b[38;5;124mLuvah\u001b[39m\u001b[38;5;124m\"\u001b[39m] \u001b[38;5;241m=\u001b[39m \u001b[38;5;241m5028851111\u001b[39m\n\u001b[1;32m      4\u001b[0m gogglecontacts[\u001b[38;5;124m\"\u001b[39m\u001b[38;5;124mSynalise\u001b[39m\u001b[38;5;124m\"\u001b[39m] \u001b[38;5;241m=\u001b[39m \u001b[38;5;241m5027175196\u001b[39m\n",
      "\u001b[0;31mNameError\u001b[0m: name 'gogglecontacts' is not defined"
     ]
    }
   ],
   "source": [
    "googlecontacts = {\"Remy\", \"Luvah\", \"Synalise\"}\n",
    "gogglecontacts[\"Remy\"] = 5027721587\n",
    "gogglecontacts[\"Luvah\"] = 5028851111\n",
    "gogglecontacts[\"Synalise\"] = 5027175196\n",
    "print(gogglecontacts)\n",
    "              "
   ]
  },
  {
   "cell_type": "code",
   "execution_count": 5,
   "id": "f505a27c-3abc-43f1-a446-bcbdc6aed723",
   "metadata": {},
   "outputs": [
    {
     "name": "stdout",
     "output_type": "stream",
     "text": [
      "{'Synalise', 'Remy', 'Luvah'}\n"
     ]
    }
   ],
   "source": [
    "gogglecontacts = {\n",
    "    \"Remy\"     : 5027721587,\n",
    "    \"Luvah\"    : 5028851111,\n",
    "    \"Synalise\" : 5027175196\n",
    "}\n",
    "print(googlecontacts)"
   ]
  },
  {
   "cell_type": "code",
   "execution_count": null,
   "id": "00a378d8-daab-4823-b53c-9c8524948b9a",
   "metadata": {},
   "outputs": [],
   "source": []
  }
 ],
 "metadata": {
  "kernelspec": {
   "display_name": "Python 3 (ipykernel)",
   "language": "python",
   "name": "python3"
  },
  "language_info": {
   "codemirror_mode": {
    "name": "ipython",
    "version": 3
   },
   "file_extension": ".py",
   "mimetype": "text/x-python",
   "name": "python",
   "nbconvert_exporter": "python",
   "pygments_lexer": "ipython3",
   "version": "3.9.12"
  }
 },
 "nbformat": 4,
 "nbformat_minor": 5
}
