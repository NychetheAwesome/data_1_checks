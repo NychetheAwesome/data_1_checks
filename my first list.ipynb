{
 "cells": [
  {
   "cell_type": "code",
   "execution_count": 7,
   "id": "e05024ba-323b-4adc-8bd2-f5b15d215653",
   "metadata": {},
   "outputs": [
    {
     "name": "stdout",
     "output_type": "stream",
     "text": [
      "1\n",
      "2\n",
      "3\n",
      "1\n",
      "2\n",
      "3\n",
      "1\n",
      "2\n",
      "3\n"
     ]
    }
   ],
   "source": [
    "mycars =[1,2,3]\n",
    "mycars.append(1)\n",
    "mycars.append(2)\n",
    "mycars.append(3)\n",
    "print(mycars[0]) # prints 1\n",
    "print(mycars[1]) # prints 2\n",
    "print(mycars[2]) # prints 3\n",
    "\n",
    "# prints out 1,2,3\n",
    "for x in mycars:\n",
    "    print(x)"
   ]
  },
  {
   "cell_type": "code",
   "execution_count": 8,
   "id": "fe36bcd6-3c6c-43e1-99c9-d02c82dc03bb",
   "metadata": {},
   "outputs": [
    {
     "ename": "NameError",
     "evalue": "name 'redcar' is not defined",
     "output_type": "error",
     "traceback": [
      "\u001b[0;31m---------------------------------------------------------------------------\u001b[0m",
      "\u001b[0;31mNameError\u001b[0m                                 Traceback (most recent call last)",
      "Input \u001b[0;32mIn [8]\u001b[0m, in \u001b[0;36m<cell line: 2>\u001b[0;34m()\u001b[0m\n\u001b[1;32m      1\u001b[0m numbers \u001b[38;5;241m=\u001b[39m [\u001b[38;5;241m1\u001b[39m,\u001b[38;5;241m2\u001b[39m,\u001b[38;5;241m3\u001b[39m]\n\u001b[0;32m----> 2\u001b[0m strings \u001b[38;5;241m=\u001b[39m [\u001b[43mredcar\u001b[49m,bluecar]\n\u001b[1;32m      3\u001b[0m names \u001b[38;5;241m=\u001b[39m [\u001b[38;5;124m\"\u001b[39m\u001b[38;5;124mBunz\u001b[39m\u001b[38;5;124m\"\u001b[39m, \u001b[38;5;124m\"\u001b[39m\u001b[38;5;124mSyn\u001b[39m\u001b[38;5;124m\"\u001b[39m, \u001b[38;5;124m\"\u001b[39m\u001b[38;5;124mKesha\u001b[39m\u001b[38;5;124m\"\u001b[39m]\n\u001b[1;32m      5\u001b[0m numbers\u001b[38;5;241m.\u001b[39mappend(\u001b[38;5;241m1\u001b[39m)\n",
      "\u001b[0;31mNameError\u001b[0m: name 'redcar' is not defined"
     ]
    }
   ],
   "source": [
    "numbers = [1,2,3]\n",
    "strings = [\"redcar\",\"bluecar]\n",
    "names = [\"Bunz\", \"Syn\", \"Kesha\"]\n",
    "\n",
    "numbers.append(1)\n",
    "numbers.append(2)\n",
    "numbers.append(3)\n",
    "\n",
    "strings.append(\"redcar\")\n",
    "strings.append(\"bluecar\")\n",
    "\n",
    "second_name = [1]\n",
    "\n",
    "print(numbers)\n",
    "print(strings)\n",
    "print(\"The second names on the list is %s\" % second_name)"
   ]
  },
  {
   "cell_type": "code",
   "execution_count": null,
   "id": "d1b6e14a-4366-4f8c-a7c3-4c57475bfe8d",
   "metadata": {},
   "outputs": [],
   "source": []
  }
 ],
 "metadata": {
  "kernelspec": {
   "display_name": "Python 3 (ipykernel)",
   "language": "python",
   "name": "python3"
  },
  "language_info": {
   "codemirror_mode": {
    "name": "ipython",
    "version": 3
   },
   "file_extension": ".py",
   "mimetype": "text/x-python",
   "name": "python",
   "nbconvert_exporter": "python",
   "pygments_lexer": "ipython3",
   "version": "3.9.12"
  }
 },
 "nbformat": 4,
 "nbformat_minor": 5
}
